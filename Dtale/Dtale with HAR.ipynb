{
 "cells": [
  {
   "cell_type": "markdown",
   "id": "2d033269",
   "metadata": {},
   "source": [
    "\n",
    "# Dtale                           pypi\n",
    "\n",
    "https://pypi.org/project/dtale/"
   ]
  },
  {
   "cell_type": "code",
   "execution_count": 1,
   "id": "d97e05be",
   "metadata": {},
   "outputs": [
    {
     "name": "stdout",
     "output_type": "stream",
     "text": [
      "^C\n"
     ]
    }
   ],
   "source": [
    "!pip install dtale"
   ]
  },
  {
   "cell_type": "markdown",
   "id": "54ce66d9",
   "metadata": {},
   "source": [
    "D-Tale is the combination of a Flask back-end and a React front-end to bring you an easy way to view & analyze Pandas data structures.\n",
    "\n",
    "It integrates seamlessly with ipython notebooks & python/ipython terminals. Currently this tool supports such Pandas objects as DataFrame, Series, MultiIndex, DatetimeIndex & RangeIndex."
   ]
  },
  {
   "cell_type": "code",
   "execution_count": 2,
   "id": "0d81f1c9",
   "metadata": {},
   "outputs": [],
   "source": [
    "import dtale"
   ]
  },
  {
   "cell_type": "markdown",
   "id": "f1466494",
   "metadata": {},
   "source": [
    " D-Tale was the product of a SAS to Python conversion"
   ]
  },
  {
   "cell_type": "code",
   "execution_count": 3,
   "id": "0ce22836",
   "metadata": {},
   "outputs": [],
   "source": [
    "import seaborn as sns "
   ]
  },
  {
   "cell_type": "code",
   "execution_count": 4,
   "id": "dc73b605",
   "metadata": {},
   "outputs": [],
   "source": [
    "df=sns.load_dataset('tips')"
   ]
  },
  {
   "cell_type": "code",
   "execution_count": 7,
   "id": "90363db8",
   "metadata": {},
   "outputs": [
    {
     "data": {
      "text/html": [
       "\n",
       "        <iframe\n",
       "            width=\"100%\"\n",
       "            height=\"475\"\n",
       "            src=\"http://Hrishikesh:40000/dtale/iframe/1\"\n",
       "            frameborder=\"0\"\n",
       "            allowfullscreen\n",
       "            \n",
       "        ></iframe>\n",
       "        "
      ],
      "text/plain": [
       "<IPython.lib.display.IFrame at 0x2146f764c50>"
      ]
     },
     "metadata": {},
     "output_type": "display_data"
    },
    {
     "data": {
      "text/plain": []
     },
     "execution_count": 7,
     "metadata": {},
     "output_type": "execute_result"
    }
   ],
   "source": [
    "dtale.show(df)"
   ]
  },
  {
   "cell_type": "markdown",
   "id": "7ac066ac",
   "metadata": {},
   "source": [
    "The source code is currently hosted on GitHub at: https://github.com/man-group/dtale\n",
    "\n",
    "Binary installers for the latest released version are available at the Python package index and on conda using conda-forge."
   ]
  },
  {
   "cell_type": "markdown",
   "id": "a5b9ee1c",
   "metadata": {},
   "source": [
    "# "
   ]
  },
  {
   "cell_type": "markdown",
   "id": "c906ce00",
   "metadata": {},
   "source": [
    "# Getting Started "
   ]
  },
  {
   "cell_type": "markdown",
   "id": "f6a43ba2",
   "metadata": {},
   "source": [
    "#  PyPI\n",
    "pip install dtale"
   ]
  },
  {
   "cell_type": "markdown",
   "id": "5667ca47",
   "metadata": {},
   "source": [
    "If you run into issues with viewing D-Tale in your browser on Windows please try making Python public under “Allowed Apps” in your Firewall configuration. \n",
    "\n",
    "Here is a nice article: How to Allow Apps to Communicate Through the Windows Firewall\n",
    "\n"
   ]
  },
  {
   "cell_type": "markdown",
   "id": "778e6bb6",
   "metadata": {},
   "source": [
    "# Additional functions available programmatically"
   ]
  },
  {
   "cell_type": "code",
   "execution_count": null,
   "id": "17fc9043",
   "metadata": {},
   "outputs": [],
   "source": [
    "import dtale\n",
    "import pandas as pd\n",
    "\n",
    "df = pd.DataFrame([dict(a=1,b=2,c=3)])\n",
    "\n",
    "# Assigning a reference to a running D-Tale process\n",
    "d = dtale.show(df)\n",
    "\n",
    "# Accessing data associated with D-Tale process\n",
    "tmp = d.data.copy()\n",
    "tmp['d'] = 4\n",
    "\n",
    "# Altering data associated with D-Tale process\n",
    "# FYI: this will clear any front-end settings you have at the time for this process (filter, sorts, formatting)\n",
    "d.data = tmp\n",
    "\n",
    "# Shutting down D-Tale process\n",
    "d.kill()\n",
    "\n",
    "# using Python's `webbrowser` package it will try and open your server's default browser to this process\n",
    "d.open_browser()\n",
    "\n",
    "# There is also some helpful metadata about the process\n",
    "d._data_id  # the process's data identifier\n",
    "d._url  # the url to access the process\n",
    "\n",
    "d2 = dtale.get_instance(d._data_id)  # returns a new reference to the instance running at that data_id\n",
    "\n",
    "dtale.instances()  # prints a list of all ids & urls of running D-Tale sessions"
   ]
  },
  {
   "cell_type": "markdown",
   "id": "c2f85661",
   "metadata": {},
   "source": [
    "# Maintainer"
   ]
  },
  {
   "cell_type": "markdown",
   "id": "0a314341",
   "metadata": {},
   "source": [
    "https://pypi.org/user/ahldev/\n",
    "    \n",
    "https://pypi.org/user/aschonfeld/"
   ]
  },
  {
   "cell_type": "markdown",
   "id": "bfd409f2",
   "metadata": {},
   "source": [
    "# "
   ]
  },
  {
   "cell_type": "markdown",
   "id": "85346a5f",
   "metadata": {},
   "source": [
    "Thank You, My name is hrishikesh rajput,I do use this library and dtale is a fantastic library."
   ]
  }
 ],
 "metadata": {
  "kernelspec": {
   "display_name": "Python 3 (ipykernel)",
   "language": "python",
   "name": "python3"
  },
  "language_info": {
   "codemirror_mode": {
    "name": "ipython",
    "version": 3
   },
   "file_extension": ".py",
   "mimetype": "text/x-python",
   "name": "python",
   "nbconvert_exporter": "python",
   "pygments_lexer": "ipython3",
   "version": "3.11.5"
  }
 },
 "nbformat": 4,
 "nbformat_minor": 5
}
