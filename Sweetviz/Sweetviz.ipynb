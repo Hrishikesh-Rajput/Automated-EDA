{
 "cells": [
  {
   "cell_type": "markdown",
   "id": "d8b63845",
   "metadata": {},
   "source": [
    "# Sweetviz\n",
    "https://pypi.org/project/sweetviz/"
   ]
  },
  {
   "cell_type": "code",
   "execution_count": 1,
   "id": "e91bee91",
   "metadata": {},
   "outputs": [
    {
     "name": "stdout",
     "output_type": "stream",
     "text": [
      "^C\n"
     ]
    }
   ],
   "source": [
    "!pip install sweetviz"
   ]
  },
  {
   "cell_type": "markdown",
   "id": "698c4918",
   "metadata": {},
   "source": [
    "⚠ Sweetviz is an open-source Python library that generates beautiful, high-density visualizations to kickstart EDA (Exploratory Data Analysis) with just two lines of code. Output is a fully self-contained HTML application."
   ]
  },
  {
   "cell_type": "code",
   "execution_count": 4,
   "id": "0aa7b4af",
   "metadata": {},
   "outputs": [],
   "source": [
    "import seaborn as sns \n",
    "df=sns.load_dataset('tips')"
   ]
  },
  {
   "cell_type": "code",
   "execution_count": 5,
   "id": "ea0b6045",
   "metadata": {},
   "outputs": [
    {
     "data": {
      "application/vnd.jupyter.widget-view+json": {
       "model_id": "16571cf931504b5fabd37830924feb1d",
       "version_major": 2,
       "version_minor": 0
      },
      "text/plain": [
       "                                             |                                             | [  0%]   00:00 ->…"
      ]
     },
     "metadata": {},
     "output_type": "display_data"
    }
   ],
   "source": [
    "\n",
    "import sweetviz as sv\n",
    "report=sv.analyze(df)"
   ]
  },
  {
   "cell_type": "code",
   "execution_count": 6,
   "id": "2e75dd9e",
   "metadata": {},
   "outputs": [
    {
     "name": "stdout",
     "output_type": "stream",
     "text": [
      "Report 123456.html was generated! NOTEBOOK/COLAB USERS: the web browser MAY not pop up, regardless, the report IS saved in your notebook/colab files.\n"
     ]
    }
   ],
   "source": [
    "report.show_html('123456.html')"
   ]
  },
  {
   "cell_type": "code",
   "execution_count": 7,
   "id": "b9651fcc",
   "metadata": {},
   "outputs": [],
   "source": [
    "# my_report.show_html(\"Report.html\")\n",
    "# Not providing a filename will default to SWEETVIZ_REPORT.html"
   ]
  },
  {
   "cell_type": "markdown",
   "id": "7133184a",
   "metadata": {},
   "source": [
    "# "
   ]
  },
  {
   "cell_type": "markdown",
   "id": "48229636",
   "metadata": {},
   "source": [
    "# Summary display"
   ]
  },
  {
   "cell_type": "markdown",
   "id": "2f1ad731",
   "metadata": {},
   "source": [
    "The summary shows us the characteristics of both dataframes side-by-side.\n",
    "\n",
    "We can immediately identify that the testing set is roughly half the size of the training set, but that it contains the same features.\n",
    "\n",
    "That legend at the bottom shows us that the training set does contain the “Survived” target variable, but that the testing set does not."
   ]
  },
  {
   "cell_type": "markdown",
   "id": "eb0d9cec",
   "metadata": {},
   "source": [
    "# Associations"
   ]
  },
  {
   "cell_type": "markdown",
   "id": "f6c08bfe",
   "metadata": {},
   "source": [
    "Hovering your mouse over the “Associations” button in the summary will make the Associations graph appear on the right-hand side:\n",
    "\n"
   ]
  },
  {
   "cell_type": "markdown",
   "id": "ce41e325",
   "metadata": {},
   "source": [
    "categorical-categorical associations (provided by the uncertainty coefficient) are ASSYMMETRICAL, meaning that each row represents how much the row title (on the left) gives information on each column.\n",
    "\n",
    "For example, “Sex”, “Pclass” and “Fare” are the elements that give the most information on “Survived”. For the Titanic dataset, this information is rather symmetrical but it is not always the case."
   ]
  },
  {
   "cell_type": "markdown",
   "id": "931e7bd1",
   "metadata": {},
   "source": [
    "# Target variable"
   ]
  },
  {
   "cell_type": "markdown",
   "id": "1088cba4",
   "metadata": {},
   "source": [
    "When a target variable is specified, it will show up first, in a special black box."
   ]
  },
  {
   "cell_type": "markdown",
   "id": "d04b0ac7",
   "metadata": {},
   "source": [
    "# Detail area (categorical/boolean)"
   ]
  },
  {
   "cell_type": "markdown",
   "id": "ce44c258",
   "metadata": {},
   "source": [
    "When you move the mouse to hover over any of the variables, an area to the right will showcase the details. \n",
    "\n",
    "The content of the details depends on the type of variable being analyzed."
   ]
  },
  {
   "cell_type": "markdown",
   "id": "36ec801c",
   "metadata": {},
   "source": [
    "# Numerical data"
   ]
  },
  {
   "cell_type": "markdown",
   "id": "61ec25da",
   "metadata": {},
   "source": [
    "# Detail area (numerical)"
   ]
  },
  {
   "cell_type": "markdown",
   "id": "0bbdd4a4",
   "metadata": {},
   "source": [
    "# FeatureConfig: forcing data types, skipping columns\n",
    "In many cases, there are “label” columns that you may not want to analyze (although target analysis can provide insights on the distribution of target values based on labeling). In other cases, you may want to force some values to be marked as categorical even though they are numerical in nature.\n",
    "\n",
    "To do all this, simply create a FeatureConfig object and pass it in to the analyze/compare function. You can specify either a string or a list to kwargs skip, force_cat and force_text:\n",
    "\n",
    "feature_config = sweetviz.FeatureConfig(skip=\"PassengerId\", force_cat=[\"Ticket\"])\n",
    "\n",
    "my_report = sweetviz.compare([train, \"Train\"], [test, \"Test\"], "
   ]
  },
  {
   "cell_type": "markdown",
   "id": "459e4737",
   "metadata": {},
   "source": [
    "Docuement :  https://towardsdatascience.com/powerful-eda-exploratory-data-analysis-in-just-two-lines-of-code-using-sweetviz-6c943d32f34"
   ]
  },
  {
   "cell_type": "markdown",
   "id": "fe44f4a8",
   "metadata": {},
   "source": [
    "Thank You\n"
   ]
  }
 ],
 "metadata": {
  "kernelspec": {
   "display_name": "Python 3 (ipykernel)",
   "language": "python",
   "name": "python3"
  },
  "language_info": {
   "codemirror_mode": {
    "name": "ipython",
    "version": 3
   },
   "file_extension": ".py",
   "mimetype": "text/x-python",
   "name": "python",
   "nbconvert_exporter": "python",
   "pygments_lexer": "ipython3",
   "version": "3.11.5"
  }
 },
 "nbformat": 4,
 "nbformat_minor": 5
}
