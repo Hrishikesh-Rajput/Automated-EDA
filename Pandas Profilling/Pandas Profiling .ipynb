{
 "cells": [
  {
   "cell_type": "markdown",
   "id": "bb2f629a",
   "metadata": {},
   "source": [
    "# Pandas Profiling \n",
    "https://pypi.org/project/pandas-profiling/"
   ]
  },
  {
   "cell_type": "markdown",
   "id": "fbf63d45",
   "metadata": {},
   "source": [
    "⚠️ pandas-profiling package naming was changed. To continue profiling data use ydata-profiling instead!\n",
    "\n",
    "This repo implements the brownout strategy for deprecating the pandas-profiling package on PyPI.⚠️"
   ]
  },
  {
   "cell_type": "markdown",
   "id": "7195b257",
   "metadata": {},
   "source": [
    "Pandas profiling is now known as ydata-profiling.\n",
    "\n",
    "This package is also built on pandas and NumPy.\n",
    "\n",
    "Regarding data structure, ydata-profiling supports tabular data, time series text, and image data."
   ]
  },
  {
   "cell_type": "code",
   "execution_count": 1,
   "id": "372bdcd3",
   "metadata": {},
   "outputs": [
    {
     "name": "stdout",
     "output_type": "stream",
     "text": [
      "^C\n"
     ]
    }
   ],
   "source": [
    "# Pandas Profiling\n",
    "!pip uninstall pandas-profiling"
   ]
  },
  {
   "cell_type": "code",
   "execution_count": 2,
   "id": "0edfe56f",
   "metadata": {},
   "outputs": [
    {
     "name": "stdout",
     "output_type": "stream",
     "text": [
      "^C\n",
      "Note: you may need to restart the kernel to use updated packages.\n"
     ]
    }
   ],
   "source": [
    "pip install ydata-profiling "
   ]
  },
  {
   "cell_type": "markdown",
   "id": "026ced28",
   "metadata": {},
   "source": [
    "Pandas-profiling primary goal is to provide a one-line Exploratory Data Analysis (EDA) experience in a consistent and fast solution.\n",
    "\n",
    "Like pandas df.describe() function, that is so handy, pandas-profiling delivers an extended analysis of a DataFrame while alllowing the data analysis to be exported in different formats such as html and json"
   ]
  },
  {
   "cell_type": "markdown",
   "id": "20d4e89f",
   "metadata": {},
   "source": [
    "# "
   ]
  },
  {
   "cell_type": "code",
   "execution_count": 5,
   "id": "648e36d1",
   "metadata": {},
   "outputs": [],
   "source": [
    "from pandas_profiling import ProfileReport\n",
    "import seaborn as sns"
   ]
  },
  {
   "cell_type": "code",
   "execution_count": 6,
   "id": "f1bd1b07",
   "metadata": {},
   "outputs": [],
   "source": [
    "df=sns.load_dataset('tips')"
   ]
  },
  {
   "cell_type": "code",
   "execution_count": 28,
   "id": "710f32f5",
   "metadata": {},
   "outputs": [],
   "source": [
    "profile =ProfileReport(df,explorative=True,dark_mode=True)"
   ]
  },
  {
   "cell_type": "code",
   "execution_count": 7,
   "id": "1702f1fb",
   "metadata": {},
   "outputs": [
    {
     "data": {
      "text/html": [
       "<div>\n",
       "<style scoped>\n",
       "    .dataframe tbody tr th:only-of-type {\n",
       "        vertical-align: middle;\n",
       "    }\n",
       "\n",
       "    .dataframe tbody tr th {\n",
       "        vertical-align: top;\n",
       "    }\n",
       "\n",
       "    .dataframe thead th {\n",
       "        text-align: right;\n",
       "    }\n",
       "</style>\n",
       "<table border=\"1\" class=\"dataframe\">\n",
       "  <thead>\n",
       "    <tr style=\"text-align: right;\">\n",
       "      <th></th>\n",
       "      <th>total_bill</th>\n",
       "      <th>tip</th>\n",
       "      <th>sex</th>\n",
       "      <th>smoker</th>\n",
       "      <th>day</th>\n",
       "      <th>time</th>\n",
       "      <th>size</th>\n",
       "    </tr>\n",
       "  </thead>\n",
       "  <tbody>\n",
       "    <tr>\n",
       "      <th>0</th>\n",
       "      <td>16.99</td>\n",
       "      <td>1.01</td>\n",
       "      <td>Female</td>\n",
       "      <td>No</td>\n",
       "      <td>Sun</td>\n",
       "      <td>Dinner</td>\n",
       "      <td>2</td>\n",
       "    </tr>\n",
       "    <tr>\n",
       "      <th>1</th>\n",
       "      <td>10.34</td>\n",
       "      <td>1.66</td>\n",
       "      <td>Male</td>\n",
       "      <td>No</td>\n",
       "      <td>Sun</td>\n",
       "      <td>Dinner</td>\n",
       "      <td>3</td>\n",
       "    </tr>\n",
       "    <tr>\n",
       "      <th>2</th>\n",
       "      <td>21.01</td>\n",
       "      <td>3.50</td>\n",
       "      <td>Male</td>\n",
       "      <td>No</td>\n",
       "      <td>Sun</td>\n",
       "      <td>Dinner</td>\n",
       "      <td>3</td>\n",
       "    </tr>\n",
       "  </tbody>\n",
       "</table>\n",
       "</div>"
      ],
      "text/plain": [
       "   total_bill   tip     sex smoker  day    time  size\n",
       "0       16.99  1.01  Female     No  Sun  Dinner     2\n",
       "1       10.34  1.66    Male     No  Sun  Dinner     3\n",
       "2       21.01  3.50    Male     No  Sun  Dinner     3"
      ]
     },
     "execution_count": 7,
     "metadata": {},
     "output_type": "execute_result"
    }
   ],
   "source": [
    "df.head(3)"
   ]
  },
  {
   "cell_type": "code",
   "execution_count": 29,
   "id": "fdcabb9b",
   "metadata": {},
   "outputs": [
    {
     "data": {
      "application/vnd.jupyter.widget-view+json": {
       "model_id": "e609670ca32d4f80b33989f4896fa031",
       "version_major": 2,
       "version_minor": 0
      },
      "text/plain": [
       "Summarize dataset:   0%|          | 0/5 [00:00<?, ?it/s]"
      ]
     },
     "metadata": {},
     "output_type": "display_data"
    },
    {
     "data": {
      "application/vnd.jupyter.widget-view+json": {
       "model_id": "2daf85a043db4caeafd30db70f8af9b4",
       "version_major": 2,
       "version_minor": 0
      },
      "text/plain": [
       "Generate report structure:   0%|          | 0/1 [00:00<?, ?it/s]"
      ]
     },
     "metadata": {},
     "output_type": "display_data"
    },
    {
     "data": {
      "application/vnd.jupyter.widget-view+json": {
       "model_id": "9bf1280a44f4448aa87a42440a2d549f",
       "version_major": 2,
       "version_minor": 0
      },
      "text/plain": [
       "Render HTML:   0%|          | 0/1 [00:00<?, ?it/s]"
      ]
     },
     "metadata": {},
     "output_type": "display_data"
    },
    {
     "data": {
      "application/vnd.jupyter.widget-view+json": {
       "model_id": "4a4f35ee47d64fae81aa6f27519c2573",
       "version_major": 2,
       "version_minor": 0
      },
      "text/plain": [
       "Export report to file:   0%|          | 0/1 [00:00<?, ?it/s]"
      ]
     },
     "metadata": {},
     "output_type": "display_data"
    }
   ],
   "source": [
    "profile.to_file('outputx.html')"
   ]
  },
  {
   "cell_type": "code",
   "execution_count": 10,
   "id": "22d62a78",
   "metadata": {},
   "outputs": [],
   "source": [
    "# Minimal allows a minimalistic report. You just have to set it as True.\n",
    "# ProfileReport(sample, minimal=True)"
   ]
  },
  {
   "cell_type": "code",
   "execution_count": 11,
   "id": "576bc78c",
   "metadata": {},
   "outputs": [],
   "source": [
    "# Title allows you to give your profiling report a title.\n",
    "\n",
    "# ProfileReport(df, title=\"My Report\")"
   ]
  },
  {
   "cell_type": "markdown",
   "id": "5a13cb59",
   "metadata": {},
   "source": [
    "# Set a description for your data"
   ]
  },
  {
   "cell_type": "markdown",
   "id": "f33ecf95",
   "metadata": {},
   "source": [
    "from ydata_profiling import ProfileReport\n",
    "\n",
    "    profile = data.profile_report(\n",
    "\n",
    "        title=\"Bitcoin Profiling Report\",\n",
    "\n",
    "        dataset={\n",
    "\n",
    "            \"description\": \"This profiling report was generated by Benny Ifeanyi using ydata_profiling.\",\n",
    "\n",
    "            \"copyright_holder\": \"InfluxDB\",\n",
    "\n",
    "            \"copyright_year\": 2023,\n",
    "\n",
    "            \"url\": \"https://github.com/influxdata/influxdb2-sample-data/blob/master/bitcoin-price-data/bitcoin-historical-annotated.csv\",\n",
    "\n",
    "        },\n",
    "\n",
    "    )\n",
    "\n",
    "    Profile"
   ]
  },
  {
   "cell_type": "markdown",
   "id": "4952054d",
   "metadata": {},
   "source": [
    "# There are five main sections."
   ]
  },
  {
   "cell_type": "markdown",
   "id": "7e82b687",
   "metadata": {},
   "source": [
    "# 1 Overview:\n",
    "It has three report tabs: Overview, Warnings, and Reproduction.\n",
    "\n",
    "Overview shows statistics like the number of sizes, missing cells, and duplicate rows.\n",
    "\n",
    "Alerts preview any warnings like columns with unique values, cardinality, and skewness of the variables.\n",
    "\n",
    "The Reproduction page shows information about the report generation, like the start and end time and the software version."
   ]
  },
  {
   "cell_type": "markdown",
   "id": "daeda0d5",
   "metadata": {},
   "source": [
    "# 2 Variables \n",
    "It report consists of a detailed analysis of each variable (columns).\n",
    "\n",
    "This output depends on whether the column you pick is categorical or numerical. \n",
    "\n",
    "Some of the information in this section includes distinct values, missing values, means, histograms, and the number of characters.\n",
    "\n",
    "This section also gives a more detailed overview if you click the More Detail toggle button."
   ]
  },
  {
   "cell_type": "markdown",
   "id": "94c3494b",
   "metadata": {},
   "source": [
    "# 3 Correlations \n",
    "It provide correlations in the data. \n",
    "\n",
    "Ydata-profiling gives you access to five types of correlation coefficients: pearson, spearman, Kendall, phi_k, and cramers."
   ]
  },
  {
   "cell_type": "markdown",
   "id": "cdac54c8",
   "metadata": {},
   "source": [
    "# 4 Missing Values\n",
    "It provide visualizations for the missing values present in the data set.\n",
    "\n",
    "You get a count (bar) and matrix plot by default. "
   ]
  },
  {
   "cell_type": "markdown",
   "id": "f3d6db6b",
   "metadata": {},
   "source": [
    "# 5 The Sample page\n",
    "It displays the first and last few rows of the data set."
   ]
  },
  {
   "cell_type": "markdown",
   "id": "a69f5109",
   "metadata": {},
   "source": [
    "Learn More :\n",
    "\n",
    "    Theory: https://www.datacamp.com/tutorial/pandas-profiling-ydata-profiling-in-python-guide\n",
    "    \n",
    "    Practical:https://www.influxdata.com/blog/pandas-profiling-tutorial/"
   ]
  },
  {
   "cell_type": "markdown",
   "id": "31733b65",
   "metadata": {},
   "source": [
    "# "
   ]
  },
  {
   "cell_type": "markdown",
   "id": "044135e4",
   "metadata": {},
   "source": [
    "Contributors\n",
    "\n",
    "https://pypi.org/user/portellaai/\n",
    "\n"
   ]
  },
  {
   "cell_type": "markdown",
   "id": "2a71fa29",
   "metadata": {},
   "source": [
    "Thank you"
   ]
  }
 ],
 "metadata": {
  "kernelspec": {
   "display_name": "Python 3 (ipykernel)",
   "language": "python",
   "name": "python3"
  },
  "language_info": {
   "codemirror_mode": {
    "name": "ipython",
    "version": 3
   },
   "file_extension": ".py",
   "mimetype": "text/x-python",
   "name": "python",
   "nbconvert_exporter": "python",
   "pygments_lexer": "ipython3",
   "version": "3.11.5"
  }
 },
 "nbformat": 4,
 "nbformat_minor": 5
}
